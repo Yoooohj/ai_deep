{
  "cells": [
    {
      "cell_type": "markdown",
      "metadata": {
        "id": "8WZrHgK_OIYz"
      },
      "source": [
        "This is a companion notebook for the book [Deep Learning with Python, Second Edition](https://www.manning.com/books/deep-learning-with-python-second-edition?a_aid=keras&a_bid=76564dff). For readability, it only contains runnable code blocks and section titles, and omits everything else in the book: text paragraphs, figures, and pseudocode.\n",
        "\n",
        "**If you want to be able to follow what's going on, I recommend reading the notebook side by side with your copy of the book.**\n",
        "\n",
        "This notebook was generated for TensorFlow 2.6."
      ]
    },
    {
      "cell_type": "markdown",
      "metadata": {
        "id": "PqUqjUkUOIY3"
      },
      "source": [
        "# Fundamentals of machine learning"
      ]
    },
    {
      "cell_type": "markdown",
      "metadata": {
        "id": "Lh3mVs9VOIY4"
      },
      "source": [
        "## Generalization: The goal of machine learning"
      ]
    },
    {
      "cell_type": "markdown",
      "metadata": {
        "id": "kNo2Rwp0OIY4"
      },
      "source": [
        "### Underfitting and overfitting"
      ]
    },
    {
      "cell_type": "markdown",
      "metadata": {
        "id": "BSvfNlZrOIY4"
      },
      "source": [
        "#### Noisy training data"
      ]
    },
    {
      "cell_type": "markdown",
      "metadata": {
        "id": "lnl_VRW0OIY5"
      },
      "source": [
        "#### Ambiguous features"
      ]
    },
    {
      "cell_type": "markdown",
      "metadata": {
        "id": "DBXaY3CsOIY5"
      },
      "source": [
        "#### Rare features and spurious correlations"
      ]
    },
    {
      "cell_type": "markdown",
      "metadata": {
        "id": "NvBy-0hFOIY5"
      },
      "source": [
        "**Adding white-noise channels or all-zeros channels to MNIST**"
      ]
    },
    {
      "cell_type": "code",
      "execution_count": 1,
      "metadata": {
        "id": "xTjGH41TOIY6"
      },
      "outputs": [],
      "source": [
        "from tensorflow.keras.datasets import mnist\n",
        "import numpy as np\n",
        "\n",
        "(train_images, train_labels), _ = mnist.load_data()\n",
        "train_images = train_images.reshape((60000, 28 * 28))\n",
        "train_images = train_images.astype(\"float32\") / 255\n",
        "\n",
        "train_images_with_noise_channels = np.concatenate(\n",
        "    [train_images, np.random.random((len(train_images), 784))], axis=1)\n",
        "\n",
        "train_images_with_zeros_channels = np.concatenate(\n",
        "    [train_images, np.zeros((len(train_images), 784))], axis=1)"
      ]
    },
    {
      "cell_type": "code",
      "source": [
        "train_images.shape"
      ],
      "metadata": {
        "id": "yW9CqjlSVmlJ",
        "outputId": "891622b2-bb19-46db-fedf-8865d73b79ef",
        "colab": {
          "base_uri": "https://localhost:8080/"
        }
      },
      "execution_count": 3,
      "outputs": [
        {
          "output_type": "execute_result",
          "data": {
            "text/plain": [
              "(60000, 784)"
            ]
          },
          "metadata": {},
          "execution_count": 3
        }
      ]
    },
    {
      "cell_type": "code",
      "source": [
        "train_images_with_noise_channels.shape"
      ],
      "metadata": {
        "id": "hq8-M1C3VmX-",
        "outputId": "79bb71b0-81c1-4a48-98d8-38ab2b6141c7",
        "colab": {
          "base_uri": "https://localhost:8080/"
        }
      },
      "execution_count": 4,
      "outputs": [
        {
          "output_type": "execute_result",
          "data": {
            "text/plain": [
              "(60000, 1568)"
            ]
          },
          "metadata": {},
          "execution_count": 4
        }
      ]
    },
    {
      "cell_type": "code",
      "source": [
        "train_images_with_zeros_channels.shape"
      ],
      "metadata": {
        "id": "fXrCK6PWVmUv",
        "outputId": "1cdf910f-cd80-418c-dcac-9b97a484b2db",
        "colab": {
          "base_uri": "https://localhost:8080/"
        }
      },
      "execution_count": 5,
      "outputs": [
        {
          "output_type": "execute_result",
          "data": {
            "text/plain": [
              "(60000, 1568)"
            ]
          },
          "metadata": {},
          "execution_count": 5
        }
      ]
    },
    {
      "cell_type": "markdown",
      "metadata": {
        "id": "E1Gt76vtOIY7"
      },
      "source": [
        "**Training the same model on MNIST data with noise channels or all-zero channels**"
      ]
    },
    {
      "cell_type": "code",
      "execution_count": 2,
      "metadata": {
        "id": "97Tw0-s_OIY7",
        "outputId": "2d35fe15-7107-4932-9af2-65bdd3c96938",
        "colab": {
          "base_uri": "https://localhost:8080/"
        }
      },
      "outputs": [
        {
          "output_type": "stream",
          "name": "stdout",
          "text": [
            "Epoch 1/10\n",
            "375/375 [==============================] - 4s 4ms/step - loss: 0.6028 - accuracy: 0.8126 - val_loss: 0.2883 - val_accuracy: 0.9136\n",
            "Epoch 2/10\n",
            "375/375 [==============================] - 1s 3ms/step - loss: 0.2516 - accuracy: 0.9208 - val_loss: 0.2151 - val_accuracy: 0.9388\n",
            "Epoch 3/10\n",
            "375/375 [==============================] - 1s 3ms/step - loss: 0.1641 - accuracy: 0.9501 - val_loss: 0.1773 - val_accuracy: 0.9499\n",
            "Epoch 4/10\n",
            "375/375 [==============================] - 2s 4ms/step - loss: 0.1187 - accuracy: 0.9629 - val_loss: 0.1269 - val_accuracy: 0.9617\n",
            "Epoch 5/10\n",
            "375/375 [==============================] - 1s 3ms/step - loss: 0.0853 - accuracy: 0.9730 - val_loss: 0.1206 - val_accuracy: 0.9643\n",
            "Epoch 6/10\n",
            "375/375 [==============================] - 1s 3ms/step - loss: 0.0630 - accuracy: 0.9806 - val_loss: 0.1540 - val_accuracy: 0.9567\n",
            "Epoch 7/10\n",
            "375/375 [==============================] - 1s 3ms/step - loss: 0.0468 - accuracy: 0.9848 - val_loss: 0.1246 - val_accuracy: 0.9652\n",
            "Epoch 8/10\n",
            "375/375 [==============================] - 1s 3ms/step - loss: 0.0329 - accuracy: 0.9898 - val_loss: 0.1127 - val_accuracy: 0.9699\n",
            "Epoch 9/10\n",
            "375/375 [==============================] - 1s 3ms/step - loss: 0.0244 - accuracy: 0.9925 - val_loss: 0.1280 - val_accuracy: 0.9667\n",
            "Epoch 10/10\n",
            "375/375 [==============================] - 1s 3ms/step - loss: 0.0179 - accuracy: 0.9949 - val_loss: 0.1645 - val_accuracy: 0.9612\n",
            "Epoch 1/10\n",
            "375/375 [==============================] - 2s 4ms/step - loss: 0.2968 - accuracy: 0.9129 - val_loss: 0.1519 - val_accuracy: 0.9557\n",
            "Epoch 2/10\n",
            "375/375 [==============================] - 1s 3ms/step - loss: 0.1242 - accuracy: 0.9630 - val_loss: 0.1148 - val_accuracy: 0.9656\n",
            "Epoch 3/10\n",
            "375/375 [==============================] - 1s 3ms/step - loss: 0.0816 - accuracy: 0.9764 - val_loss: 0.0902 - val_accuracy: 0.9737\n",
            "Epoch 4/10\n",
            "375/375 [==============================] - 1s 3ms/step - loss: 0.0590 - accuracy: 0.9831 - val_loss: 0.0871 - val_accuracy: 0.9739\n",
            "Epoch 5/10\n",
            "375/375 [==============================] - 1s 3ms/step - loss: 0.0440 - accuracy: 0.9871 - val_loss: 0.0762 - val_accuracy: 0.9783\n",
            "Epoch 6/10\n",
            "375/375 [==============================] - 1s 4ms/step - loss: 0.0334 - accuracy: 0.9906 - val_loss: 0.0731 - val_accuracy: 0.9797\n",
            "Epoch 7/10\n",
            "375/375 [==============================] - 2s 4ms/step - loss: 0.0263 - accuracy: 0.9926 - val_loss: 0.0766 - val_accuracy: 0.9765\n",
            "Epoch 8/10\n",
            "375/375 [==============================] - 1s 3ms/step - loss: 0.0197 - accuracy: 0.9945 - val_loss: 0.0767 - val_accuracy: 0.9779\n",
            "Epoch 9/10\n",
            "375/375 [==============================] - 1s 3ms/step - loss: 0.0146 - accuracy: 0.9960 - val_loss: 0.0784 - val_accuracy: 0.9793\n",
            "Epoch 10/10\n",
            "375/375 [==============================] - 1s 3ms/step - loss: 0.0111 - accuracy: 0.9972 - val_loss: 0.0788 - val_accuracy: 0.9799\n",
            "Epoch 1/10\n",
            "375/375 [==============================] - 2s 4ms/step - loss: 0.2953 - accuracy: 0.9143 - val_loss: 0.1578 - val_accuracy: 0.9538\n",
            "Epoch 2/10\n",
            "375/375 [==============================] - 1s 3ms/step - loss: 0.1222 - accuracy: 0.9640 - val_loss: 0.1145 - val_accuracy: 0.9659\n",
            "Epoch 3/10\n",
            "375/375 [==============================] - 1s 3ms/step - loss: 0.0793 - accuracy: 0.9766 - val_loss: 0.0878 - val_accuracy: 0.9739\n",
            "Epoch 4/10\n",
            "375/375 [==============================] - 1s 3ms/step - loss: 0.0565 - accuracy: 0.9832 - val_loss: 0.0810 - val_accuracy: 0.9758\n",
            "Epoch 5/10\n",
            "375/375 [==============================] - 1s 3ms/step - loss: 0.0427 - accuracy: 0.9873 - val_loss: 0.0823 - val_accuracy: 0.9744\n",
            "Epoch 6/10\n",
            "375/375 [==============================] - 1s 3ms/step - loss: 0.0323 - accuracy: 0.9908 - val_loss: 0.0720 - val_accuracy: 0.9790\n",
            "Epoch 7/10\n",
            "375/375 [==============================] - 1s 3ms/step - loss: 0.0241 - accuracy: 0.9933 - val_loss: 0.0769 - val_accuracy: 0.9781\n",
            "Epoch 8/10\n",
            "375/375 [==============================] - 1s 4ms/step - loss: 0.0184 - accuracy: 0.9947 - val_loss: 0.0771 - val_accuracy: 0.9778\n",
            "Epoch 9/10\n",
            "375/375 [==============================] - 2s 4ms/step - loss: 0.0136 - accuracy: 0.9966 - val_loss: 0.0797 - val_accuracy: 0.9778\n",
            "Epoch 10/10\n",
            "375/375 [==============================] - 1s 3ms/step - loss: 0.0100 - accuracy: 0.9976 - val_loss: 0.0769 - val_accuracy: 0.9788\n"
          ]
        }
      ],
      "source": [
        "from tensorflow import keras\n",
        "from tensorflow.keras import layers\n",
        "\n",
        "def get_model():\n",
        "    model = keras.Sequential([\n",
        "        layers.Dense(512, activation=\"relu\"),\n",
        "        layers.Dense(10, activation=\"softmax\")\n",
        "    ])\n",
        "    model.compile(optimizer=\"rmsprop\",\n",
        "                  loss=\"sparse_categorical_crossentropy\",\n",
        "                  metrics=[\"accuracy\"])\n",
        "    return model\n",
        "\n",
        "model = get_model()\n",
        "history_noise = model.fit(\n",
        "    train_images_with_noise_channels, train_labels,\n",
        "    epochs=10,\n",
        "    batch_size=128,\n",
        "    validation_split=0.2)\n",
        "\n",
        "model = get_model()\n",
        "history_zeros = model.fit(\n",
        "    train_images_with_zeros_channels, train_labels,\n",
        "    epochs=10,\n",
        "    batch_size=128,\n",
        "    validation_split=0.2)\n",
        "\n",
        "model = get_model()\n",
        "history_origin = model.fit(\n",
        "    train_images, train_labels,\n",
        "    epochs=10,\n",
        "    batch_size=128,\n",
        "    validation_split=0.2)"
      ]
    },
    {
      "cell_type": "markdown",
      "metadata": {
        "id": "ZeVtvgFwOIY7"
      },
      "source": [
        "**Plotting a validation accuracy comparison**"
      ]
    },
    {
      "cell_type": "code",
      "execution_count": 13,
      "metadata": {
        "colab": {
          "base_uri": "https://localhost:8080/",
          "height": 490
        },
        "id": "RjKBTlhcOIY7",
        "outputId": "34e8420b-5456-4bf9-942d-c44ee816a242"
      },
      "outputs": [
        {
          "output_type": "execute_result",
          "data": {
            "text/plain": [
              "<matplotlib.legend.Legend at 0x7b98b94d0760>"
            ]
          },
          "metadata": {},
          "execution_count": 13
        },
        {
          "output_type": "display_data",
          "data": {
            "text/plain": [
              "<Figure size 640x480 with 1 Axes>"
            ],
            "image/png": "[encoded data removed]"
          },
          "metadata": {}
        }
      ],
      "source": [
        "import matplotlib.pyplot as plt\n",
        "val_acc_noise = history_noise.history[\"val_accuracy\"]\n",
        "val_acc_zeros = history_zeros.history[\"val_accuracy\"]\n",
        "val_acc_origin = history_origin.history[\"val_accuracy\"]\n",
        "\n",
        "epochs = range(1, 11)\n",
        "plt.plot(epochs, val_acc_noise, \"b-\",\n",
        "         label=\"Validation accuracy with noise channels\")\n",
        "plt.plot(epochs, val_acc_zeros, \"b--\",\n",
        "         label=\"Validation accuracy with zeros channels\")\n",
        "plt.plot(epochs, val_acc_origin, \"r--\",\n",
        "         label=\"Validation accuracy with origin channels\")\n",
        "plt.title(\"Effect of noise channels on validation accuracy\")\n",
        "plt.xlabel(\"Epochs\")\n",
        "plt.ylabel(\"Accuracy\")\n",
        "plt.legend()"
      ]
    },
    {
      "cell_type": "markdown",
      "source": [
        "performance is not very good. feature engineering 이 효과적이라는 의미. 노이즈 들어가면 정확도가 낮아진다."
      ],
      "metadata": {
        "id": "17DdfmDWV0BZ"
      }
    },
    {
      "cell_type": "markdown",
      "metadata": {
        "id": "4qZAtFTbOIY8"
      },
      "source": [
        "### The nature of generalization in deep learning"
      ]
    },
    {
      "cell_type": "markdown",
      "metadata": {
        "id": "CV6RCNu4OIY8"
      },
      "source": [
        "**Fitting a MNIST model with randomly shuffled labels**"
      ]
    },
    {
      "cell_type": "code",
      "execution_count": 15,
      "metadata": {
        "id": "4gveq5ggOIY8",
        "outputId": "598c9c5f-5b61-4b25-aaee-346f0bf280f1",
        "colab": {
          "base_uri": "https://localhost:8080/"
        }
      },
      "outputs": [
        {
          "output_type": "stream",
          "name": "stdout",
          "text": [
            "Epoch 1/100\n",
            "375/375 [==============================] - 2s 4ms/step - loss: 2.3149 - accuracy: 0.1054 - val_loss: 2.3089 - val_accuracy: 0.1039\n",
            "Epoch 2/100\n",
            "375/375 [==============================] - 1s 3ms/step - loss: 2.2985 - accuracy: 0.1163 - val_loss: 2.3134 - val_accuracy: 0.0996\n",
            "Epoch 3/100\n",
            "375/375 [==============================] - 2s 4ms/step - loss: 2.2895 - accuracy: 0.1282 - val_loss: 2.3206 - val_accuracy: 0.1016\n",
            "Epoch 4/100\n",
            "375/375 [==============================] - 1s 3ms/step - loss: 2.2786 - accuracy: 0.1394 - val_loss: 2.3290 - val_accuracy: 0.0997\n",
            "Epoch 5/100\n",
            "375/375 [==============================] - 1s 3ms/step - loss: 2.2632 - accuracy: 0.1503 - val_loss: 2.3424 - val_accuracy: 0.1004\n",
            "Epoch 6/100\n",
            "375/375 [==============================] - 1s 3ms/step - loss: 2.2425 - accuracy: 0.1667 - val_loss: 2.3488 - val_accuracy: 0.1020\n",
            "Epoch 7/100\n",
            "375/375 [==============================] - 2s 5ms/step - loss: 2.2205 - accuracy: 0.1792 - val_loss: 2.3644 - val_accuracy: 0.1012\n",
            "Epoch 8/100\n",
            "375/375 [==============================] - 1s 3ms/step - loss: 2.1941 - accuracy: 0.1964 - val_loss: 2.3834 - val_accuracy: 0.1032\n",
            "Epoch 9/100\n",
            "375/375 [==============================] - 1s 3ms/step - loss: 2.1653 - accuracy: 0.2164 - val_loss: 2.4003 - val_accuracy: 0.1034\n",
            "Epoch 10/100\n",
            "375/375 [==============================] - 1s 3ms/step - loss: 2.1336 - accuracy: 0.2279 - val_loss: 2.4187 - val_accuracy: 0.0994\n",
            "Epoch 11/100\n",
            "375/375 [==============================] - 1s 3ms/step - loss: 2.1001 - accuracy: 0.2465 - val_loss: 2.4465 - val_accuracy: 0.0988\n",
            "Epoch 12/100\n",
            "375/375 [==============================] - 2s 4ms/step - loss: 2.0631 - accuracy: 0.2599 - val_loss: 2.4770 - val_accuracy: 0.0995\n",
            "Epoch 13/100\n",
            "375/375 [==============================] - 2s 4ms/step - loss: 2.0266 - accuracy: 0.2771 - val_loss: 2.4988 - val_accuracy: 0.1034\n",
            "Epoch 14/100\n",
            "375/375 [==============================] - 1s 3ms/step - loss: 1.9872 - accuracy: 0.2967 - val_loss: 2.5505 - val_accuracy: 0.1009\n",
            "Epoch 15/100\n",
            "375/375 [==============================] - 1s 3ms/step - loss: 1.9492 - accuracy: 0.3121 - val_loss: 2.5671 - val_accuracy: 0.1014\n",
            "Epoch 16/100\n",
            "375/375 [==============================] - 2s 4ms/step - loss: 1.9098 - accuracy: 0.3278 - val_loss: 2.6009 - val_accuracy: 0.0983\n",
            "Epoch 17/100\n",
            "375/375 [==============================] - 1s 3ms/step - loss: 1.8713 - accuracy: 0.3475 - val_loss: 2.6442 - val_accuracy: 0.0978\n",
            "Epoch 18/100\n",
            "375/375 [==============================] - 1s 3ms/step - loss: 1.8320 - accuracy: 0.3606 - val_loss: 2.6814 - val_accuracy: 0.1034\n",
            "Epoch 19/100\n",
            "375/375 [==============================] - 1s 4ms/step - loss: 1.7904 - accuracy: 0.3781 - val_loss: 2.7288 - val_accuracy: 0.1015\n",
            "Epoch 20/100\n",
            "375/375 [==============================] - 1s 3ms/step - loss: 1.7537 - accuracy: 0.3893 - val_loss: 2.7583 - val_accuracy: 0.1038\n",
            "Epoch 21/100\n",
            "375/375 [==============================] - 1s 4ms/step - loss: 1.7171 - accuracy: 0.4052 - val_loss: 2.8097 - val_accuracy: 0.0991\n",
            "Epoch 22/100\n",
            "375/375 [==============================] - 1s 4ms/step - loss: 1.6772 - accuracy: 0.4212 - val_loss: 2.8622 - val_accuracy: 0.0989\n",
            "Epoch 23/100\n",
            "375/375 [==============================] - 1s 3ms/step - loss: 1.6424 - accuracy: 0.4338 - val_loss: 2.8791 - val_accuracy: 0.1029\n",
            "Epoch 24/100\n",
            "375/375 [==============================] - 1s 4ms/step - loss: 1.6051 - accuracy: 0.4485 - val_loss: 2.9202 - val_accuracy: 0.0988\n",
            "Epoch 25/100\n",
            "375/375 [==============================] - 1s 3ms/step - loss: 1.5701 - accuracy: 0.4631 - val_loss: 2.9873 - val_accuracy: 0.1041\n",
            "Epoch 26/100\n",
            "375/375 [==============================] - 2s 4ms/step - loss: 1.5353 - accuracy: 0.4751 - val_loss: 3.0310 - val_accuracy: 0.1002\n",
            "Epoch 27/100\n",
            "375/375 [==============================] - 2s 4ms/step - loss: 1.5027 - accuracy: 0.4882 - val_loss: 3.1181 - val_accuracy: 0.1015\n",
            "Epoch 28/100\n",
            "375/375 [==============================] - 1s 4ms/step - loss: 1.4695 - accuracy: 0.4988 - val_loss: 3.1423 - val_accuracy: 0.1018\n",
            "Epoch 29/100\n",
            "375/375 [==============================] - 1s 3ms/step - loss: 1.4362 - accuracy: 0.5109 - val_loss: 3.1825 - val_accuracy: 0.1016\n",
            "Epoch 30/100\n",
            "375/375 [==============================] - 2s 5ms/step - loss: 1.4063 - accuracy: 0.5216 - val_loss: 3.2212 - val_accuracy: 0.1026\n",
            "Epoch 31/100\n",
            "375/375 [==============================] - 1s 3ms/step - loss: 1.3743 - accuracy: 0.5352 - val_loss: 3.2789 - val_accuracy: 0.1004\n",
            "Epoch 32/100\n",
            "375/375 [==============================] - 1s 4ms/step - loss: 1.3442 - accuracy: 0.5437 - val_loss: 3.3584 - val_accuracy: 0.1004\n",
            "Epoch 33/100\n",
            "375/375 [==============================] - 1s 4ms/step - loss: 1.3162 - accuracy: 0.5543 - val_loss: 3.3922 - val_accuracy: 0.1007\n",
            "Epoch 34/100\n",
            "375/375 [==============================] - 1s 4ms/step - loss: 1.2879 - accuracy: 0.5637 - val_loss: 3.4552 - val_accuracy: 0.1012\n",
            "Epoch 35/100\n",
            "375/375 [==============================] - 2s 4ms/step - loss: 1.2578 - accuracy: 0.5765 - val_loss: 3.5071 - val_accuracy: 0.0988\n",
            "Epoch 36/100\n",
            "375/375 [==============================] - 1s 3ms/step - loss: 1.2317 - accuracy: 0.5871 - val_loss: 3.5700 - val_accuracy: 0.0996\n",
            "Epoch 37/100\n",
            "375/375 [==============================] - 1s 3ms/step - loss: 1.2061 - accuracy: 0.5969 - val_loss: 3.6157 - val_accuracy: 0.1025\n",
            "Epoch 38/100\n",
            "375/375 [==============================] - 2s 4ms/step - loss: 1.1798 - accuracy: 0.6053 - val_loss: 3.6960 - val_accuracy: 0.1030\n",
            "Epoch 39/100\n",
            "375/375 [==============================] - 1s 4ms/step - loss: 1.1534 - accuracy: 0.6147 - val_loss: 3.7511 - val_accuracy: 0.1020\n",
            "Epoch 40/100\n",
            "375/375 [==============================] - 1s 3ms/step - loss: 1.1284 - accuracy: 0.6223 - val_loss: 3.8010 - val_accuracy: 0.1014\n",
            "Epoch 41/100\n",
            "375/375 [==============================] - 1s 3ms/step - loss: 1.1061 - accuracy: 0.6315 - val_loss: 3.8492 - val_accuracy: 0.1011\n",
            "Epoch 42/100\n",
            "375/375 [==============================] - 1s 3ms/step - loss: 1.0842 - accuracy: 0.6392 - val_loss: 3.9076 - val_accuracy: 0.1014\n",
            "Epoch 43/100\n",
            "375/375 [==============================] - 1s 4ms/step - loss: 1.0599 - accuracy: 0.6493 - val_loss: 3.9887 - val_accuracy: 0.1017\n",
            "Epoch 44/100\n",
            "375/375 [==============================] - 1s 4ms/step - loss: 1.0396 - accuracy: 0.6560 - val_loss: 4.0446 - val_accuracy: 0.1018\n",
            "Epoch 45/100\n",
            "375/375 [==============================] - 1s 3ms/step - loss: 1.0165 - accuracy: 0.6618 - val_loss: 4.0912 - val_accuracy: 0.1011\n",
            "Epoch 46/100\n",
            "375/375 [==============================] - 1s 3ms/step - loss: 0.9961 - accuracy: 0.6697 - val_loss: 4.1856 - val_accuracy: 0.0977\n",
            "Epoch 47/100\n",
            "375/375 [==============================] - 1s 4ms/step - loss: 0.9730 - accuracy: 0.6789 - val_loss: 4.2186 - val_accuracy: 0.1012\n",
            "Epoch 48/100\n",
            "375/375 [==============================] - 2s 4ms/step - loss: 0.9540 - accuracy: 0.6842 - val_loss: 4.2983 - val_accuracy: 0.0996\n",
            "Epoch 49/100\n",
            "375/375 [==============================] - 1s 4ms/step - loss: 0.9349 - accuracy: 0.6933 - val_loss: 4.3496 - val_accuracy: 0.1009\n",
            "Epoch 50/100\n",
            "375/375 [==============================] - 1s 3ms/step - loss: 0.9151 - accuracy: 0.6976 - val_loss: 4.4605 - val_accuracy: 0.0981\n",
            "Epoch 51/100\n",
            "375/375 [==============================] - 1s 3ms/step - loss: 0.8952 - accuracy: 0.7042 - val_loss: 4.4871 - val_accuracy: 0.1001\n",
            "Epoch 52/100\n",
            "375/375 [==============================] - 2s 4ms/step - loss: 0.8759 - accuracy: 0.7152 - val_loss: 4.5918 - val_accuracy: 0.1024\n",
            "Epoch 53/100\n",
            "375/375 [==============================] - 1s 4ms/step - loss: 0.8599 - accuracy: 0.7187 - val_loss: 4.6476 - val_accuracy: 0.0990\n",
            "Epoch 54/100\n",
            "375/375 [==============================] - 1s 3ms/step - loss: 0.8402 - accuracy: 0.7255 - val_loss: 4.7380 - val_accuracy: 0.1007\n",
            "Epoch 55/100\n",
            "375/375 [==============================] - 1s 3ms/step - loss: 0.8249 - accuracy: 0.7307 - val_loss: 4.7610 - val_accuracy: 0.1018\n",
            "Epoch 56/100\n",
            "375/375 [==============================] - 1s 4ms/step - loss: 0.8073 - accuracy: 0.7370 - val_loss: 4.8509 - val_accuracy: 0.1004\n",
            "Epoch 57/100\n",
            "375/375 [==============================] - 2s 5ms/step - loss: 0.7910 - accuracy: 0.7439 - val_loss: 4.8931 - val_accuracy: 0.1017\n",
            "Epoch 58/100\n",
            "375/375 [==============================] - 2s 5ms/step - loss: 0.7766 - accuracy: 0.7467 - val_loss: 4.9804 - val_accuracy: 0.1002\n",
            "Epoch 59/100\n",
            "375/375 [==============================] - 1s 3ms/step - loss: 0.7592 - accuracy: 0.7551 - val_loss: 5.0748 - val_accuracy: 0.0995\n",
            "Epoch 60/100\n",
            "375/375 [==============================] - 1s 3ms/step - loss: 0.7459 - accuracy: 0.7579 - val_loss: 5.1027 - val_accuracy: 0.0988\n",
            "Epoch 61/100\n",
            "375/375 [==============================] - 2s 5ms/step - loss: 0.7325 - accuracy: 0.7637 - val_loss: 5.1983 - val_accuracy: 0.1022\n",
            "Epoch 62/100\n",
            "375/375 [==============================] - 2s 4ms/step - loss: 0.7156 - accuracy: 0.7688 - val_loss: 5.2555 - val_accuracy: 0.1018\n",
            "Epoch 63/100\n",
            "375/375 [==============================] - 1s 3ms/step - loss: 0.7020 - accuracy: 0.7745 - val_loss: 5.3178 - val_accuracy: 0.0993\n",
            "Epoch 64/100\n",
            "375/375 [==============================] - 2s 4ms/step - loss: 0.6855 - accuracy: 0.7809 - val_loss: 5.3850 - val_accuracy: 0.1015\n",
            "Epoch 65/100\n",
            "375/375 [==============================] - 1s 3ms/step - loss: 0.6749 - accuracy: 0.7816 - val_loss: 5.4658 - val_accuracy: 0.1003\n",
            "Epoch 66/100\n",
            "375/375 [==============================] - 1s 3ms/step - loss: 0.6600 - accuracy: 0.7873 - val_loss: 5.5965 - val_accuracy: 0.1007\n",
            "Epoch 67/100\n",
            "375/375 [==============================] - 1s 3ms/step - loss: 0.6451 - accuracy: 0.7940 - val_loss: 5.6143 - val_accuracy: 0.0976\n",
            "Epoch 68/100\n",
            "375/375 [==============================] - 1s 3ms/step - loss: 0.6337 - accuracy: 0.7953 - val_loss: 5.6822 - val_accuracy: 0.1024\n",
            "Epoch 69/100\n",
            "375/375 [==============================] - 1s 3ms/step - loss: 0.6229 - accuracy: 0.8006 - val_loss: 5.7510 - val_accuracy: 0.1034\n",
            "Epoch 70/100\n",
            "375/375 [==============================] - 1s 3ms/step - loss: 0.6111 - accuracy: 0.8042 - val_loss: 5.8388 - val_accuracy: 0.0998\n",
            "Epoch 71/100\n",
            "375/375 [==============================] - 2s 5ms/step - loss: 0.5982 - accuracy: 0.8073 - val_loss: 5.8756 - val_accuracy: 0.1011\n",
            "Epoch 72/100\n",
            "375/375 [==============================] - 1s 4ms/step - loss: 0.5847 - accuracy: 0.8139 - val_loss: 5.9557 - val_accuracy: 0.0987\n",
            "Epoch 73/100\n",
            "375/375 [==============================] - 2s 5ms/step - loss: 0.5747 - accuracy: 0.8166 - val_loss: 6.0546 - val_accuracy: 0.0986\n",
            "Epoch 74/100\n",
            "375/375 [==============================] - 2s 5ms/step - loss: 0.5645 - accuracy: 0.8198 - val_loss: 6.1174 - val_accuracy: 0.1049\n",
            "Epoch 75/100\n",
            "375/375 [==============================] - 2s 4ms/step - loss: 0.5529 - accuracy: 0.8242 - val_loss: 6.1708 - val_accuracy: 0.1024\n",
            "Epoch 76/100\n",
            "375/375 [==============================] - 1s 3ms/step - loss: 0.5455 - accuracy: 0.8261 - val_loss: 6.2256 - val_accuracy: 0.1032\n",
            "Epoch 77/100\n",
            "375/375 [==============================] - 1s 3ms/step - loss: 0.5304 - accuracy: 0.8313 - val_loss: 6.3713 - val_accuracy: 0.1011\n",
            "Epoch 78/100\n",
            "375/375 [==============================] - 1s 4ms/step - loss: 0.5227 - accuracy: 0.8346 - val_loss: 6.4581 - val_accuracy: 0.1018\n",
            "Epoch 79/100\n",
            "375/375 [==============================] - 2s 4ms/step - loss: 0.5113 - accuracy: 0.8378 - val_loss: 6.4895 - val_accuracy: 0.1015\n",
            "Epoch 80/100\n",
            "375/375 [==============================] - 1s 3ms/step - loss: 0.5039 - accuracy: 0.8418 - val_loss: 6.5072 - val_accuracy: 0.1022\n",
            "Epoch 81/100\n",
            "375/375 [==============================] - 1s 4ms/step - loss: 0.4942 - accuracy: 0.8446 - val_loss: 6.6809 - val_accuracy: 0.0993\n",
            "Epoch 82/100\n",
            "375/375 [==============================] - 2s 4ms/step - loss: 0.4838 - accuracy: 0.8471 - val_loss: 6.7264 - val_accuracy: 0.0995\n",
            "Epoch 83/100\n",
            "375/375 [==============================] - 2s 5ms/step - loss: 0.4760 - accuracy: 0.8503 - val_loss: 6.7487 - val_accuracy: 0.1041\n",
            "Epoch 84/100\n",
            "375/375 [==============================] - 2s 4ms/step - loss: 0.4657 - accuracy: 0.8529 - val_loss: 6.8661 - val_accuracy: 0.1023\n",
            "Epoch 85/100\n",
            "375/375 [==============================] - 1s 4ms/step - loss: 0.4564 - accuracy: 0.8574 - val_loss: 6.9227 - val_accuracy: 0.1014\n",
            "Epoch 86/100\n",
            "375/375 [==============================] - 2s 4ms/step - loss: 0.4498 - accuracy: 0.8590 - val_loss: 7.0205 - val_accuracy: 0.1012\n",
            "Epoch 87/100\n",
            "375/375 [==============================] - 1s 4ms/step - loss: 0.4409 - accuracy: 0.8618 - val_loss: 7.0596 - val_accuracy: 0.1012\n",
            "Epoch 88/100\n",
            "375/375 [==============================] - 1s 3ms/step - loss: 0.4331 - accuracy: 0.8644 - val_loss: 7.1192 - val_accuracy: 0.0998\n",
            "Epoch 89/100\n",
            "375/375 [==============================] - 1s 4ms/step - loss: 0.4256 - accuracy: 0.8666 - val_loss: 7.2083 - val_accuracy: 0.0993\n",
            "Epoch 90/100\n",
            "375/375 [==============================] - 2s 5ms/step - loss: 0.4166 - accuracy: 0.8681 - val_loss: 7.3025 - val_accuracy: 0.0988\n",
            "Epoch 91/100\n",
            "375/375 [==============================] - 1s 3ms/step - loss: 0.4092 - accuracy: 0.8723 - val_loss: 7.3650 - val_accuracy: 0.1027\n",
            "Epoch 92/100\n",
            "375/375 [==============================] - 1s 3ms/step - loss: 0.4020 - accuracy: 0.8752 - val_loss: 7.4259 - val_accuracy: 0.1040\n",
            "Epoch 93/100\n",
            "375/375 [==============================] - 1s 3ms/step - loss: 0.3953 - accuracy: 0.8762 - val_loss: 7.5424 - val_accuracy: 0.1017\n",
            "Epoch 94/100\n",
            "375/375 [==============================] - 1s 3ms/step - loss: 0.3875 - accuracy: 0.8816 - val_loss: 7.6009 - val_accuracy: 0.1020\n",
            "Epoch 95/100\n",
            "375/375 [==============================] - 1s 3ms/step - loss: 0.3812 - accuracy: 0.8835 - val_loss: 7.7106 - val_accuracy: 0.1008\n",
            "Epoch 96/100\n",
            "375/375 [==============================] - 1s 3ms/step - loss: 0.3731 - accuracy: 0.8843 - val_loss: 7.7406 - val_accuracy: 0.1029\n",
            "Epoch 97/100\n",
            "375/375 [==============================] - 1s 3ms/step - loss: 0.3690 - accuracy: 0.8875 - val_loss: 7.8932 - val_accuracy: 0.0987\n",
            "Epoch 98/100\n",
            "375/375 [==============================] - 1s 3ms/step - loss: 0.3623 - accuracy: 0.8884 - val_loss: 7.9191 - val_accuracy: 0.1023\n",
            "Epoch 99/100\n",
            "375/375 [==============================] - 2s 4ms/step - loss: 0.3541 - accuracy: 0.8901 - val_loss: 7.9410 - val_accuracy: 0.0993\n",
            "Epoch 100/100\n",
            "375/375 [==============================] - 2s 6ms/step - loss: 0.3491 - accuracy: 0.8922 - val_loss: 8.1228 - val_accuracy: 0.0992\n"
          ]
        }
      ],
      "source": [
        "(train_images, train_labels), _ = mnist.load_data()\n",
        "train_images = train_images.reshape((60000, 28 * 28))\n",
        "train_images = train_images.astype(\"float32\") / 255\n",
        "\n",
        "random_train_labels = train_labels[:]\n",
        "np.random.shuffle(random_train_labels)\n",
        "\n",
        "model = keras.Sequential([\n",
        "    layers.Dense(512, activation=\"relu\"),\n",
        "    layers.Dense(10, activation=\"softmax\")\n",
        "])\n",
        "model.compile(optimizer=\"rmsprop\",\n",
        "              loss=\"sparse_categorical_crossentropy\",\n",
        "              metrics=[\"accuracy\"])\n",
        "shuffle_model = model.fit(train_images, random_train_labels,\n",
        "          epochs=100,\n",
        "          batch_size=128,\n",
        "          validation_split=0.2)"
      ]
    },
    {
      "cell_type": "markdown",
      "source": [
        "training accuarcy는 계속 오르는데, val accuary는 오르지 않는 모습"
      ],
      "metadata": {
        "id": "Fpig912FWwfw"
      }
    },
    {
      "cell_type": "code",
      "execution_count": 19,
      "metadata": {
        "id": "5bHjAUsCXq0C",
        "outputId": "b7eeafef-fb2e-4ee1-f7f5-fb63ee57952e",
        "colab": {
          "base_uri": "https://localhost:8080/",
          "height": 490
        }
      },
      "outputs": [
        {
          "output_type": "execute_result",
          "data": {
            "text/plain": [
              "<matplotlib.legend.Legend at 0x7b98b998f160>"
            ]
          },
          "metadata": {},
          "execution_count": 19
        },
        {
          "output_type": "display_data",
          "data": {
            "text/plain": [
              "<Figure size 640x480 with 1 Axes>"
            ],
            "image/png": "[encoded data removed]"
          },
          "metadata": {}
        }
      ],
      "source": [
        "import matplotlib.pyplot as plt\n",
        "val_acc_shuffle = shuffle_model.history[\"val_accuracy\"]\n",
        "train_acc_shuffle = shuffle_model.history[\"accuracy\"]\n",
        "\n",
        "epochs = range(1, 101)\n",
        "plt.plot(epochs, val_acc_shuffle, \"b-\",\n",
        "         label=\"Validation accuracy\")\n",
        "plt.plot(epochs, train_acc_shuffle, \"b--\",\n",
        "         label=\"training accuracy with zeros channels\")\n",
        "\n",
        "plt.title(\"Effect of noise channels on validation accuracy\")\n",
        "plt.xlabel(\"Epochs\")\n",
        "plt.ylabel(\"Accuracy\")\n",
        "plt.legend()"
      ]
    },
    {
      "cell_type": "markdown",
      "metadata": {
        "id": "Z60tZTkrOIY8"
      },
      "source": [
        "#### The manifold hypothesis"
      ]
    },
    {
      "cell_type": "markdown",
      "metadata": {
        "id": "Eqk2lxUGOIY8"
      },
      "source": [
        "#### Interpolation as a source of generalization"
      ]
    },
    {
      "cell_type": "markdown",
      "metadata": {
        "id": "vSXyEee2OIY8"
      },
      "source": [
        "#### Why deep learning works"
      ]
    },
    {
      "cell_type": "markdown",
      "metadata": {
        "id": "FUyrq9hKOIY8"
      },
      "source": [
        "#### Training data is paramount"
      ]
    },
    {
      "cell_type": "markdown",
      "metadata": {
        "id": "iY491doAOIY8"
      },
      "source": [
        "## Evaluating machine-learning models"
      ]
    },
    {
      "cell_type": "markdown",
      "metadata": {
        "id": "LQsdStLrOIY8"
      },
      "source": [
        "### Training, validation, and test sets"
      ]
    },
    {
      "cell_type": "markdown",
      "metadata": {
        "id": "of5pj8AyOIY8"
      },
      "source": [
        "#### Simple hold-out validation"
      ]
    },
    {
      "cell_type": "markdown",
      "metadata": {
        "id": "k3M5ie9YOIY9"
      },
      "source": [
        "#### K-fold validation"
      ]
    },
    {
      "cell_type": "markdown",
      "metadata": {
        "id": "RLr0ydadOIY9"
      },
      "source": [
        "#### Iterated K-fold validation with shuffling"
      ]
    },
    {
      "cell_type": "markdown",
      "metadata": {
        "id": "sujR_4AXOIY9"
      },
      "source": [
        "### Beating a common-sense baseline"
      ]
    },
    {
      "cell_type": "markdown",
      "metadata": {
        "id": "1daSxOzfOIY9"
      },
      "source": [
        "### Things to keep in mind about model evaluation"
      ]
    },
    {
      "cell_type": "markdown",
      "metadata": {
        "id": "tJE28j2vOIY-"
      },
      "source": [
        "## Improving model fit"
      ]
    },
    {
      "cell_type": "markdown",
      "metadata": {
        "id": "qr84cdUaOIY_"
      },
      "source": [
        "### Tuning key gradient descent parameters"
      ]
    },
    {
      "cell_type": "markdown",
      "metadata": {
        "id": "uHD0zn9LOIY_"
      },
      "source": [
        "**Training a MNIST model with an incorrectly high learning rate**"
      ]
    },
    {
      "cell_type": "code",
      "execution_count": 20,
      "metadata": {
        "id": "7diOjf1jOIY_",
        "outputId": "4fa795b3-fc3e-4397-f083-fe0200a635d8",
        "colab": {
          "base_uri": "https://localhost:8080/"
        }
      },
      "outputs": [
        {
          "output_type": "stream",
          "name": "stdout",
          "text": [
            "Epoch 1/10\n",
            "375/375 [==============================] - 2s 3ms/step - loss: 644.6942 - accuracy: 0.3252 - val_loss: 2.4713 - val_accuracy: 0.2862\n",
            "Epoch 2/10\n",
            "375/375 [==============================] - 1s 3ms/step - loss: 3.0412 - accuracy: 0.2184 - val_loss: 2.1165 - val_accuracy: 0.2186\n",
            "Epoch 3/10\n",
            "375/375 [==============================] - 1s 3ms/step - loss: 3.4427 - accuracy: 0.2024 - val_loss: 2.1806 - val_accuracy: 0.2000\n",
            "Epoch 4/10\n",
            "375/375 [==============================] - 2s 4ms/step - loss: 2.4818 - accuracy: 0.2098 - val_loss: 2.1090 - val_accuracy: 0.2198\n",
            "Epoch 5/10\n",
            "375/375 [==============================] - 1s 3ms/step - loss: 2.5765 - accuracy: 0.2072 - val_loss: 2.2402 - val_accuracy: 0.2000\n",
            "Epoch 6/10\n",
            "375/375 [==============================] - 1s 3ms/step - loss: 2.6600 - accuracy: 0.2003 - val_loss: 3.2393 - val_accuracy: 0.2409\n",
            "Epoch 7/10\n",
            "375/375 [==============================] - 1s 3ms/step - loss: 2.3970 - accuracy: 0.2099 - val_loss: 2.2121 - val_accuracy: 0.2868\n",
            "Epoch 8/10\n",
            "375/375 [==============================] - 1s 3ms/step - loss: 2.4266 - accuracy: 0.2374 - val_loss: 2.0888 - val_accuracy: 0.2455\n",
            "Epoch 9/10\n",
            "375/375 [==============================] - 1s 3ms/step - loss: 2.4559 - accuracy: 0.2275 - val_loss: 2.0371 - val_accuracy: 0.2385\n",
            "Epoch 10/10\n",
            "375/375 [==============================] - 1s 3ms/step - loss: 2.3261 - accuracy: 0.2318 - val_loss: 2.2482 - val_accuracy: 0.2042\n"
          ]
        },
        {
          "output_type": "execute_result",
          "data": {
            "text/plain": [
              "<keras.src.callbacks.History at 0x7b98b9a2f3a0>"
            ]
          },
          "metadata": {},
          "execution_count": 20
        }
      ],
      "source": [
        "(train_images, train_labels), _ = mnist.load_data()\n",
        "train_images = train_images.reshape((60000, 28 * 28))\n",
        "train_images = train_images.astype(\"float32\") / 255\n",
        "\n",
        "model = keras.Sequential([\n",
        "    layers.Dense(512, activation=\"relu\"),\n",
        "    layers.Dense(10, activation=\"softmax\")\n",
        "])\n",
        "model.compile(optimizer=keras.optimizers.RMSprop(1.),\n",
        "              loss=\"sparse_categorical_crossentropy\",\n",
        "              metrics=[\"accuracy\"])\n",
        "model.fit(train_images, train_labels,\n",
        "          epochs=10,\n",
        "          batch_size=128,\n",
        "          validation_split=0.2)"
      ]
    },
    {
      "cell_type": "markdown",
      "metadata": {
        "id": "KcPqLolNOIY_"
      },
      "source": [
        "**The same model with a more appropriate learning rate**"
      ]
    },
    {
      "cell_type": "code",
      "execution_count": 21,
      "metadata": {
        "id": "NtrOJKpyOIY_",
        "outputId": "20ecd877-8dc6-4598-8a13-9a33ea274678",
        "colab": {
          "base_uri": "https://localhost:8080/"
        }
      },
      "outputs": [
        {
          "output_type": "stream",
          "name": "stdout",
          "text": [
            "Epoch 1/10\n",
            "375/375 [==============================] - 2s 3ms/step - loss: 0.3337 - accuracy: 0.9141 - val_loss: 0.1587 - val_accuracy: 0.9578\n",
            "Epoch 2/10\n",
            "375/375 [==============================] - 1s 3ms/step - loss: 0.1246 - accuracy: 0.9655 - val_loss: 0.1350 - val_accuracy: 0.9689\n",
            "Epoch 3/10\n",
            "375/375 [==============================] - 1s 3ms/step - loss: 0.0978 - accuracy: 0.9740 - val_loss: 0.1561 - val_accuracy: 0.9657\n",
            "Epoch 4/10\n",
            "375/375 [==============================] - 2s 4ms/step - loss: 0.0817 - accuracy: 0.9787 - val_loss: 0.1872 - val_accuracy: 0.9667\n",
            "Epoch 5/10\n",
            "375/375 [==============================] - 1s 4ms/step - loss: 0.0630 - accuracy: 0.9836 - val_loss: 0.1689 - val_accuracy: 0.9720\n",
            "Epoch 6/10\n",
            "375/375 [==============================] - 1s 3ms/step - loss: 0.0608 - accuracy: 0.9847 - val_loss: 0.2311 - val_accuracy: 0.9630\n",
            "Epoch 7/10\n",
            "375/375 [==============================] - 1s 3ms/step - loss: 0.0568 - accuracy: 0.9871 - val_loss: 0.2085 - val_accuracy: 0.9718\n",
            "Epoch 8/10\n",
            "375/375 [==============================] - 1s 3ms/step - loss: 0.0494 - accuracy: 0.9889 - val_loss: 0.1869 - val_accuracy: 0.9752\n",
            "Epoch 9/10\n",
            "375/375 [==============================] - 1s 3ms/step - loss: 0.0467 - accuracy: 0.9903 - val_loss: 0.2285 - val_accuracy: 0.9732\n",
            "Epoch 10/10\n",
            "375/375 [==============================] - 1s 3ms/step - loss: 0.0396 - accuracy: 0.9913 - val_loss: 0.2324 - val_accuracy: 0.9753\n"
          ]
        },
        {
          "output_type": "execute_result",
          "data": {
            "text/plain": [
              "<keras.src.callbacks.History at 0x7b98b9761000>"
            ]
          },
          "metadata": {},
          "execution_count": 21
        }
      ],
      "source": [
        "model = keras.Sequential([\n",
        "    layers.Dense(512, activation=\"relu\"),\n",
        "    layers.Dense(10, activation=\"softmax\")\n",
        "])\n",
        "model.compile(optimizer=keras.optimizers.RMSprop(1e-2),\n",
        "              loss=\"sparse_categorical_crossentropy\",\n",
        "              metrics=[\"accuracy\"])\n",
        "model.fit(train_images, train_labels,\n",
        "          epochs=10,\n",
        "          batch_size=128,\n",
        "          validation_split=0.2)"
      ]
    },
    {
      "cell_type": "markdown",
      "metadata": {
        "id": "fzghuqmyOIY_"
      },
      "source": [
        "### Leveraging better architecture priors"
      ]
    },
    {
      "cell_type": "markdown",
      "metadata": {
        "id": "jAY9dlrqOIY_"
      },
      "source": [
        "### Increasing model capacity"
      ]
    },
    {
      "cell_type": "markdown",
      "metadata": {
        "id": "x9DH_qpvOIY_"
      },
      "source": [
        "**A simple logistic regression on MNIST**"
      ]
    },
    {
      "cell_type": "code",
      "execution_count": 22,
      "metadata": {
        "id": "mcIsE9dMOIY_",
        "outputId": "5acb163a-b650-49d7-94a3-5e261e5708db",
        "colab": {
          "base_uri": "https://localhost:8080/"
        }
      },
      "outputs": [
        {
          "output_type": "stream",
          "name": "stdout",
          "text": [
            "Epoch 1/20\n",
            "375/375 [==============================] - 2s 3ms/step - loss: 0.6748 - accuracy: 0.8294 - val_loss: 0.3624 - val_accuracy: 0.9044\n",
            "Epoch 2/20\n",
            "375/375 [==============================] - 1s 3ms/step - loss: 0.3544 - accuracy: 0.9007 - val_loss: 0.3109 - val_accuracy: 0.9143\n",
            "Epoch 3/20\n",
            "375/375 [==============================] - 1s 3ms/step - loss: 0.3185 - accuracy: 0.9109 - val_loss: 0.2923 - val_accuracy: 0.9187\n",
            "Epoch 4/20\n",
            "375/375 [==============================] - 1s 4ms/step - loss: 0.3022 - accuracy: 0.9158 - val_loss: 0.2840 - val_accuracy: 0.9217\n",
            "Epoch 5/20\n",
            "375/375 [==============================] - 2s 4ms/step - loss: 0.2922 - accuracy: 0.9178 - val_loss: 0.2792 - val_accuracy: 0.9237\n",
            "Epoch 6/20\n",
            "375/375 [==============================] - 1s 4ms/step - loss: 0.2855 - accuracy: 0.9204 - val_loss: 0.2755 - val_accuracy: 0.9235\n",
            "Epoch 7/20\n",
            "375/375 [==============================] - 1s 4ms/step - loss: 0.2806 - accuracy: 0.9215 - val_loss: 0.2722 - val_accuracy: 0.9248\n",
            "Epoch 8/20\n",
            "375/375 [==============================] - 2s 6ms/step - loss: 0.2765 - accuracy: 0.9226 - val_loss: 0.2707 - val_accuracy: 0.9264\n",
            "Epoch 9/20\n",
            "375/375 [==============================] - 1s 4ms/step - loss: 0.2734 - accuracy: 0.9239 - val_loss: 0.2687 - val_accuracy: 0.9268\n",
            "Epoch 10/20\n",
            "375/375 [==============================] - 1s 3ms/step - loss: 0.2710 - accuracy: 0.9244 - val_loss: 0.2674 - val_accuracy: 0.9268\n",
            "Epoch 11/20\n",
            "375/375 [==============================] - 1s 3ms/step - loss: 0.2687 - accuracy: 0.9255 - val_loss: 0.2661 - val_accuracy: 0.9283\n",
            "Epoch 12/20\n",
            "375/375 [==============================] - 1s 3ms/step - loss: 0.2667 - accuracy: 0.9252 - val_loss: 0.2653 - val_accuracy: 0.9287\n",
            "Epoch 13/20\n",
            "375/375 [==============================] - 1s 3ms/step - loss: 0.2646 - accuracy: 0.9269 - val_loss: 0.2673 - val_accuracy: 0.9271\n",
            "Epoch 14/20\n",
            "375/375 [==============================] - 1s 3ms/step - loss: 0.2632 - accuracy: 0.9278 - val_loss: 0.2635 - val_accuracy: 0.9293\n",
            "Epoch 15/20\n",
            "375/375 [==============================] - 1s 3ms/step - loss: 0.2618 - accuracy: 0.9276 - val_loss: 0.2641 - val_accuracy: 0.9277\n",
            "Epoch 16/20\n",
            "375/375 [==============================] - 1s 3ms/step - loss: 0.2603 - accuracy: 0.9284 - val_loss: 0.2648 - val_accuracy: 0.9287\n",
            "Epoch 17/20\n",
            "375/375 [==============================] - 1s 3ms/step - loss: 0.2591 - accuracy: 0.9285 - val_loss: 0.2640 - val_accuracy: 0.9303\n",
            "Epoch 18/20\n",
            "375/375 [==============================] - 1s 4ms/step - loss: 0.2583 - accuracy: 0.9287 - val_loss: 0.2654 - val_accuracy: 0.9285\n",
            "Epoch 19/20\n",
            "375/375 [==============================] - 1s 4ms/step - loss: 0.2571 - accuracy: 0.9294 - val_loss: 0.2622 - val_accuracy: 0.9298\n",
            "Epoch 20/20\n",
            "375/375 [==============================] - 1s 3ms/step - loss: 0.2564 - accuracy: 0.9290 - val_loss: 0.2636 - val_accuracy: 0.9293\n"
          ]
        }
      ],
      "source": [
        "model = keras.Sequential([layers.Dense(10, activation=\"softmax\")]) #simple logistic regression\n",
        "model.compile(optimizer=\"rmsprop\",\n",
        "              loss=\"sparse_categorical_crossentropy\",\n",
        "              metrics=[\"accuracy\"])\n",
        "history_small_model = model.fit(\n",
        "    train_images, train_labels,\n",
        "    epochs=20,\n",
        "    batch_size=128,\n",
        "    validation_split=0.2)"
      ]
    },
    {
      "cell_type": "code",
      "execution_count": 23,
      "metadata": {
        "id": "ti0aBXjqOIY_",
        "outputId": "85a8f4c4-9c4b-433b-aa88-c74f53b78c92",
        "colab": {
          "base_uri": "https://localhost:8080/",
          "height": 490
        }
      },
      "outputs": [
        {
          "output_type": "execute_result",
          "data": {
            "text/plain": [
              "<matplotlib.legend.Legend at 0x7b98b96dbee0>"
            ]
          },
          "metadata": {},
          "execution_count": 23
        },
        {
          "output_type": "display_data",
          "data": {
            "text/plain": [
              "<Figure size 640x480 with 1 Axes>"
            ],
            "image/png": "[encoded data removed]"
          },
          "metadata": {}
        }
      ],
      "source": [
        "import matplotlib.pyplot as plt\n",
        "val_loss = history_small_model.history[\"val_loss\"]\n",
        "epochs = range(1, 21)\n",
        "plt.plot(epochs, val_loss, \"b--\",\n",
        "         label=\"Validation loss\")\n",
        "plt.title(\"Effect of insufficient model capacity on validation loss\")\n",
        "plt.xlabel(\"Epochs\")\n",
        "plt.ylabel(\"Loss\")\n",
        "plt.legend()"
      ]
    },
    {
      "cell_type": "markdown",
      "source": [
        "overfitting situation 의 증거를 찾을 수 없다."
      ],
      "metadata": {
        "id": "ZliipRsvaTOq"
      }
    },
    {
      "cell_type": "code",
      "execution_count": 24,
      "metadata": {
        "id": "r8xnp9sMOIZA",
        "outputId": "e978b205-cb3f-4669-d48d-4e1baa9d1efe",
        "colab": {
          "base_uri": "https://localhost:8080/"
        }
      },
      "outputs": [
        {
          "output_type": "stream",
          "name": "stdout",
          "text": [
            "Epoch 1/20\n",
            "375/375 [==============================] - 3s 4ms/step - loss: 0.3728 - accuracy: 0.8956 - val_loss: 0.1923 - val_accuracy: 0.9432\n",
            "Epoch 2/20\n",
            "375/375 [==============================] - 2s 5ms/step - loss: 0.1663 - accuracy: 0.9509 - val_loss: 0.1497 - val_accuracy: 0.9571\n",
            "Epoch 3/20\n",
            "375/375 [==============================] - 2s 4ms/step - loss: 0.1170 - accuracy: 0.9645 - val_loss: 0.1216 - val_accuracy: 0.9649\n",
            "Epoch 4/20\n",
            "375/375 [==============================] - 2s 5ms/step - loss: 0.0902 - accuracy: 0.9727 - val_loss: 0.1116 - val_accuracy: 0.9663\n",
            "Epoch 5/20\n",
            "375/375 [==============================] - 1s 3ms/step - loss: 0.0729 - accuracy: 0.9782 - val_loss: 0.1004 - val_accuracy: 0.9722\n",
            "Epoch 6/20\n",
            "375/375 [==============================] - 1s 3ms/step - loss: 0.0607 - accuracy: 0.9819 - val_loss: 0.0971 - val_accuracy: 0.9719\n",
            "Epoch 7/20\n",
            "375/375 [==============================] - 1s 4ms/step - loss: 0.0503 - accuracy: 0.9846 - val_loss: 0.1059 - val_accuracy: 0.9703\n",
            "Epoch 8/20\n",
            "375/375 [==============================] - 2s 4ms/step - loss: 0.0422 - accuracy: 0.9867 - val_loss: 0.0935 - val_accuracy: 0.9735\n",
            "Epoch 9/20\n",
            "375/375 [==============================] - 1s 3ms/step - loss: 0.0354 - accuracy: 0.9889 - val_loss: 0.1001 - val_accuracy: 0.9737\n",
            "Epoch 10/20\n",
            "375/375 [==============================] - 1s 3ms/step - loss: 0.0296 - accuracy: 0.9906 - val_loss: 0.0952 - val_accuracy: 0.9739\n",
            "Epoch 11/20\n",
            "375/375 [==============================] - 1s 3ms/step - loss: 0.0250 - accuracy: 0.9914 - val_loss: 0.1043 - val_accuracy: 0.9743\n",
            "Epoch 12/20\n",
            "375/375 [==============================] - 1s 3ms/step - loss: 0.0214 - accuracy: 0.9935 - val_loss: 0.0968 - val_accuracy: 0.9768\n",
            "Epoch 13/20\n",
            "375/375 [==============================] - 1s 3ms/step - loss: 0.0178 - accuracy: 0.9945 - val_loss: 0.1169 - val_accuracy: 0.9744\n",
            "Epoch 14/20\n",
            "375/375 [==============================] - 1s 3ms/step - loss: 0.0152 - accuracy: 0.9955 - val_loss: 0.1102 - val_accuracy: 0.9751\n",
            "Epoch 15/20\n",
            "375/375 [==============================] - 1s 3ms/step - loss: 0.0123 - accuracy: 0.9962 - val_loss: 0.1123 - val_accuracy: 0.9762\n",
            "Epoch 16/20\n",
            "375/375 [==============================] - 2s 5ms/step - loss: 0.0108 - accuracy: 0.9965 - val_loss: 0.1187 - val_accuracy: 0.9753\n",
            "Epoch 17/20\n",
            "375/375 [==============================] - 2s 4ms/step - loss: 0.0089 - accuracy: 0.9973 - val_loss: 0.1133 - val_accuracy: 0.9755\n",
            "Epoch 18/20\n",
            "375/375 [==============================] - 1s 3ms/step - loss: 0.0082 - accuracy: 0.9975 - val_loss: 0.1188 - val_accuracy: 0.9770\n",
            "Epoch 19/20\n",
            "375/375 [==============================] - 1s 3ms/step - loss: 0.0066 - accuracy: 0.9982 - val_loss: 0.1253 - val_accuracy: 0.9761\n",
            "Epoch 20/20\n",
            "375/375 [==============================] - 1s 3ms/step - loss: 0.0052 - accuracy: 0.9983 - val_loss: 0.1296 - val_accuracy: 0.9755\n"
          ]
        }
      ],
      "source": [
        "model = keras.Sequential([\n",
        "    layers.Dense(96, activation=\"relu\"),\n",
        "    layers.Dense(96, activation=\"relu\"),\n",
        "    layers.Dense(10, activation=\"softmax\"),\n",
        "]) # large model\n",
        "model.compile(optimizer=\"rmsprop\",\n",
        "              loss=\"sparse_categorical_crossentropy\",\n",
        "              metrics=[\"accuracy\"])\n",
        "history_large_model = model.fit(\n",
        "    train_images, train_labels,\n",
        "    epochs=20,\n",
        "    batch_size=128,\n",
        "    validation_split=0.2)"
      ]
    },
    {
      "cell_type": "code",
      "source": [
        "import matplotlib.pyplot as plt\n",
        "val_loss = history_large_model.history[\"val_loss\"]\n",
        "epochs = range(1, 21)\n",
        "plt.plot(epochs, val_loss, \"b--\",\n",
        "         label=\"Validation loss\")\n",
        "plt.title(\"Effect of insufficient model capacity on validation loss\")\n",
        "plt.xlabel(\"Epochs\")\n",
        "plt.ylabel(\"Loss\")\n",
        "plt.legend()"
      ],
      "metadata": {
        "id": "7YDyizGKab7-",
        "outputId": "a7bc9044-781e-4860-caf3-fcacdf145abf",
        "colab": {
          "base_uri": "https://localhost:8080/",
          "height": 490
        }
      },
      "execution_count": 26,
      "outputs": [
        {
          "output_type": "execute_result",
          "data": {
            "text/plain": [
              "<matplotlib.legend.Legend at 0x7b98b8ab63b0>"
            ]
          },
          "metadata": {},
          "execution_count": 26
        },
        {
          "output_type": "display_data",
          "data": {
            "text/plain": [
              "<Figure size 640x480 with 1 Axes>"
            ],
            "image/png": "[encoded data removed]"
          },
          "metadata": {}
        }
      ]
    },
    {
      "cell_type": "markdown",
      "source": [
        "lowest는 large 모델에서 나옴. early stop 해서 거기서 멈추면 좋을듯?"
      ],
      "metadata": {
        "id": "FjomtFWJaxnV"
      }
    },
    {
      "cell_type": "markdown",
      "metadata": {
        "id": "-pki5_xqOIZF"
      },
      "source": [
        "## Improving generalization"
      ]
    },
    {
      "cell_type": "markdown",
      "metadata": {
        "id": "7vzWqp4AOIZF"
      },
      "source": [
        "### Dataset curation"
      ]
    },
    {
      "cell_type": "markdown",
      "metadata": {
        "id": "_FnFIUNqOIZF"
      },
      "source": [
        "### Feature engineering"
      ]
    },
    {
      "cell_type": "markdown",
      "metadata": {
        "id": "Vy8_CP06OIZF"
      },
      "source": [
        "### Using early stopping"
      ]
    },
    {
      "cell_type": "markdown",
      "metadata": {
        "id": "2GlWibewOIZF"
      },
      "source": [
        "### Regularizing your model"
      ]
    },
    {
      "cell_type": "markdown",
      "metadata": {
        "id": "NU0gV63_OIZF"
      },
      "source": [
        "#### Reducing the network's size"
      ]
    },
    {
      "cell_type": "markdown",
      "metadata": {
        "id": "4ch9Y2uiOIZF"
      },
      "source": [
        "**Original model**"
      ]
    },
    {
      "cell_type": "code",
      "execution_count": 4,
      "metadata": {
        "id": "QBN8BDFwOIZF",
        "outputId": "9fad1635-84ed-461f-d839-cdbc8bb390b5",
        "colab": {
          "base_uri": "https://localhost:8080/"
        }
      },
      "outputs": [
        {
          "output_type": "stream",
          "name": "stdout",
          "text": [
            "Epoch 1/10\n",
            "118/118 [==============================] - 4s 24ms/step - loss: 0.4288 - accuracy: 0.8178 - val_loss: 0.2965 - val_accuracy: 0.8861\n",
            "Epoch 2/10\n",
            "118/118 [==============================] - 1s 7ms/step - loss: 0.2266 - accuracy: 0.9167 - val_loss: 0.2735 - val_accuracy: 0.8912\n",
            "Epoch 3/10\n",
            "118/118 [==============================] - 1s 8ms/step - loss: 0.1668 - accuracy: 0.9405 - val_loss: 0.3464 - val_accuracy: 0.8639\n",
            "Epoch 4/10\n",
            "118/118 [==============================] - 1s 8ms/step - loss: 0.1287 - accuracy: 0.9550 - val_loss: 0.3261 - val_accuracy: 0.8843\n",
            "Epoch 5/10\n",
            "118/118 [==============================] - 1s 8ms/step - loss: 0.1021 - accuracy: 0.9657 - val_loss: 0.3654 - val_accuracy: 0.8808\n",
            "Epoch 6/10\n",
            "118/118 [==============================] - 1s 8ms/step - loss: 0.0800 - accuracy: 0.9747 - val_loss: 0.4126 - val_accuracy: 0.8766\n",
            "Epoch 7/10\n",
            "118/118 [==============================] - 2s 14ms/step - loss: 0.0613 - accuracy: 0.9799 - val_loss: 0.4540 - val_accuracy: 0.8735\n",
            "Epoch 8/10\n",
            "118/118 [==============================] - 1s 9ms/step - loss: 0.0468 - accuracy: 0.9858 - val_loss: 0.5207 - val_accuracy: 0.8645\n",
            "Epoch 9/10\n",
            "118/118 [==============================] - 1s 12ms/step - loss: 0.0352 - accuracy: 0.9898 - val_loss: 0.6153 - val_accuracy: 0.8636\n",
            "Epoch 10/10\n",
            "118/118 [==============================] - 2s 15ms/step - loss: 0.0259 - accuracy: 0.9928 - val_loss: 0.6040 - val_accuracy: 0.8675\n"
          ]
        }
      ],
      "source": [
        "from tensorflow.keras.datasets import imdb\n",
        "(train_data, train_labels), _ = imdb.load_data(num_words=10000)\n",
        "\n",
        "def vectorize_sequences(sequences, dimension=10000):\n",
        "    results = np.zeros((len(sequences), dimension))\n",
        "    for i, sequence in enumerate(sequences):\n",
        "        results[i, sequence] = 1.\n",
        "    return results\n",
        "train_data = vectorize_sequences(train_data)\n",
        "\n",
        "model = keras.Sequential([\n",
        "    layers.Dense(16, activation=\"relu\"),\n",
        "    layers.Dense(16, activation=\"relu\"),\n",
        "    layers.Dense(1, activation=\"sigmoid\")\n",
        "])\n",
        "model.compile(optimizer=\"rmsprop\",\n",
        "              loss=\"binary_crossentropy\",\n",
        "              metrics=[\"accuracy\"])\n",
        "history_original = model.fit(train_data, train_labels,\n",
        "                             epochs=10, batch_size=128, validation_split=0.4)"
      ]
    },
    {
      "cell_type": "markdown",
      "metadata": {
        "id": "8mTG7zZrOIZF"
      },
      "source": [
        "**Version of the model with lower capacity**"
      ]
    },
    {
      "cell_type": "code",
      "execution_count": 5,
      "metadata": {
        "id": "QR3fxD3FOIZG",
        "outputId": "5b730329-f7d5-444f-c1dc-acf272b4d218",
        "colab": {
          "base_uri": "https://localhost:8080/"
        }
      },
      "outputs": [
        {
          "output_type": "stream",
          "name": "stdout",
          "text": [
            "Epoch 1/10\n",
            "118/118 [==============================] - 3s 21ms/step - loss: 0.5305 - accuracy: 0.8173 - val_loss: 0.4154 - val_accuracy: 0.8720\n",
            "Epoch 2/10\n",
            "118/118 [==============================] - 1s 7ms/step - loss: 0.3355 - accuracy: 0.8963 - val_loss: 0.3147 - val_accuracy: 0.8838\n",
            "Epoch 3/10\n",
            "118/118 [==============================] - 1s 7ms/step - loss: 0.2437 - accuracy: 0.9181 - val_loss: 0.2789 - val_accuracy: 0.8890\n",
            "Epoch 4/10\n",
            "118/118 [==============================] - 1s 11ms/step - loss: 0.1903 - accuracy: 0.9321 - val_loss: 0.2676 - val_accuracy: 0.8946\n",
            "Epoch 5/10\n",
            "118/118 [==============================] - 1s 8ms/step - loss: 0.1566 - accuracy: 0.9448 - val_loss: 0.2822 - val_accuracy: 0.8879\n",
            "Epoch 6/10\n",
            "118/118 [==============================] - 1s 10ms/step - loss: 0.1334 - accuracy: 0.9553 - val_loss: 0.2844 - val_accuracy: 0.8922\n",
            "Epoch 7/10\n",
            "118/118 [==============================] - 1s 11ms/step - loss: 0.1145 - accuracy: 0.9635 - val_loss: 0.3050 - val_accuracy: 0.8867\n",
            "Epoch 8/10\n",
            "118/118 [==============================] - 1s 12ms/step - loss: 0.0987 - accuracy: 0.9681 - val_loss: 0.3196 - val_accuracy: 0.8855\n",
            "Epoch 9/10\n",
            "118/118 [==============================] - 1s 8ms/step - loss: 0.0846 - accuracy: 0.9741 - val_loss: 0.3367 - val_accuracy: 0.8839\n",
            "Epoch 10/10\n",
            "118/118 [==============================] - 1s 7ms/step - loss: 0.0723 - accuracy: 0.9775 - val_loss: 0.3665 - val_accuracy: 0.8796\n"
          ]
        }
      ],
      "source": [
        "model = keras.Sequential([\n",
        "    layers.Dense(4, activation=\"relu\"),\n",
        "    layers.Dense(4, activation=\"relu\"),\n",
        "    layers.Dense(1, activation=\"sigmoid\")\n",
        "])\n",
        "model.compile(optimizer=\"rmsprop\",\n",
        "              loss=\"binary_crossentropy\",\n",
        "              metrics=[\"accuracy\"])\n",
        "history_smaller_model = model.fit(\n",
        "    train_data, train_labels,\n",
        "    epochs=10, batch_size=128, validation_split=0.4)"
      ]
    },
    {
      "cell_type": "markdown",
      "metadata": {
        "id": "-gFb5datOIZG"
      },
      "source": [
        "**Version of the model with higher capacity**"
      ]
    },
    {
      "cell_type": "code",
      "execution_count": 6,
      "metadata": {
        "id": "PjAw4vPvOIZG",
        "outputId": "567f8b63-88d0-43c0-949c-cf7ae48ba259",
        "colab": {
          "base_uri": "https://localhost:8080/"
        }
      },
      "outputs": [
        {
          "output_type": "stream",
          "name": "stdout",
          "text": [
            "Epoch 1/10\n",
            "118/118 [==============================] - 3s 19ms/step - loss: 0.4063 - accuracy: 0.8173 - val_loss: 0.3137 - val_accuracy: 0.8715\n",
            "Epoch 2/10\n",
            "118/118 [==============================] - 1s 9ms/step - loss: 0.1988 - accuracy: 0.9209 - val_loss: 0.2834 - val_accuracy: 0.8848\n",
            "Epoch 3/10\n",
            "118/118 [==============================] - 1s 13ms/step - loss: 0.0969 - accuracy: 0.9659 - val_loss: 0.5782 - val_accuracy: 0.8265\n",
            "Epoch 4/10\n",
            "118/118 [==============================] - 1s 10ms/step - loss: 0.0408 - accuracy: 0.9875 - val_loss: 0.4645 - val_accuracy: 0.8769\n",
            "Epoch 5/10\n",
            "118/118 [==============================] - 1s 9ms/step - loss: 0.0146 - accuracy: 0.9963 - val_loss: 0.5792 - val_accuracy: 0.8827\n",
            "Epoch 6/10\n",
            "118/118 [==============================] - 1s 9ms/step - loss: 0.0050 - accuracy: 0.9985 - val_loss: 0.6303 - val_accuracy: 0.8811\n",
            "Epoch 7/10\n",
            "118/118 [==============================] - 1s 9ms/step - loss: 5.5955e-04 - accuracy: 0.9999 - val_loss: 0.8182 - val_accuracy: 0.8815\n",
            "Epoch 8/10\n",
            "118/118 [==============================] - 1s 9ms/step - loss: 7.8500e-05 - accuracy: 1.0000 - val_loss: 0.8803 - val_accuracy: 0.8830\n",
            "Epoch 9/10\n",
            "118/118 [==============================] - 1s 9ms/step - loss: 4.4360e-05 - accuracy: 1.0000 - val_loss: 0.9130 - val_accuracy: 0.8829\n",
            "Epoch 10/10\n",
            "118/118 [==============================] - 1s 9ms/step - loss: 3.2892e-05 - accuracy: 1.0000 - val_loss: 0.9354 - val_accuracy: 0.8829\n"
          ]
        }
      ],
      "source": [
        "model = keras.Sequential([\n",
        "    layers.Dense(512, activation=\"relu\"),\n",
        "    layers.Dense(512, activation=\"relu\"),\n",
        "    layers.Dense(1, activation=\"sigmoid\")\n",
        "])\n",
        "model.compile(optimizer=\"rmsprop\",\n",
        "              loss=\"binary_crossentropy\",\n",
        "              metrics=[\"accuracy\"])\n",
        "history_larger_model = model.fit(\n",
        "    train_data, train_labels,\n",
        "    epochs=10, batch_size=128, validation_split=0.4)"
      ]
    },
    {
      "cell_type": "code",
      "source": [
        "import matplotlib.pyplot as plt\n",
        "small_val_loss = history_smaller_model.history[\"val_loss\"]\n",
        "large_val_loss = history_larger_model.history[\"val_loss\"]\n",
        "epochs = range(1, 11)\n",
        "plt.plot(epochs, small_val_loss, \"r--\",\n",
        "         label=\"Validation loss\")\n",
        "plt.plot(epochs, large_val_loss, \"b--\",\n",
        "         label=\"Validation loss\")\n",
        "plt.title(\"Effect of insufficient model capacity on validation loss\")\n",
        "plt.xlabel(\"Epochs\")\n",
        "plt.ylabel(\"Loss\")\n",
        "plt.legend()"
      ],
      "metadata": {
        "id": "yNZre1c_bPnf",
        "outputId": "4b503ec3-afd4-453e-9d47-d020084e76de",
        "colab": {
          "base_uri": "https://localhost:8080/",
          "height": 490
        }
      },
      "execution_count": 9,
      "outputs": [
        {
          "output_type": "execute_result",
          "data": {
            "text/plain": [
              "<matplotlib.legend.Legend at 0x7a8dc2a76230>"
            ]
          },
          "metadata": {},
          "execution_count": 9
        },
        {
          "output_type": "display_data",
          "data": {
            "text/plain": [
              "<Figure size 640x480 with 1 Axes>"
            ],
            "image/png": "[encoded data removed]"
          },
          "metadata": {}
        }
      ]
    },
    {
      "cell_type": "markdown",
      "metadata": {
        "id": "EHbg1SjKOIZG"
      },
      "source": [
        "#### Adding weight regularization"
      ]
    },
    {
      "cell_type": "markdown",
      "metadata": {
        "id": "nCm9BnQ2OIZG"
      },
      "source": [
        "**Adding L2 weight regularization to the model**"
      ]
    },
    {
      "cell_type": "code",
      "execution_count": 10,
      "metadata": {
        "id": "_sGHvPdfOIZG",
        "outputId": "806358f0-9184-4e39-8280-b581de796296",
        "colab": {
          "base_uri": "https://localhost:8080/"
        }
      },
      "outputs": [
        {
          "output_type": "stream",
          "name": "stdout",
          "text": [
            "Epoch 1/10\n",
            "118/118 [==============================] - 3s 23ms/step - loss: 0.4688 - accuracy: 0.8426 - val_loss: 0.3593 - val_accuracy: 0.8871\n",
            "Epoch 2/10\n",
            "118/118 [==============================] - 1s 8ms/step - loss: 0.3092 - accuracy: 0.9102 - val_loss: 0.4988 - val_accuracy: 0.8217\n",
            "Epoch 3/10\n",
            "118/118 [==============================] - 1s 7ms/step - loss: 0.2732 - accuracy: 0.9254 - val_loss: 0.3839 - val_accuracy: 0.8752\n",
            "Epoch 4/10\n",
            "118/118 [==============================] - 1s 8ms/step - loss: 0.2552 - accuracy: 0.9339 - val_loss: 0.3759 - val_accuracy: 0.8797\n",
            "Epoch 5/10\n",
            "118/118 [==============================] - 1s 7ms/step - loss: 0.2465 - accuracy: 0.9339 - val_loss: 0.4017 - val_accuracy: 0.8728\n",
            "Epoch 6/10\n",
            "118/118 [==============================] - 1s 7ms/step - loss: 0.2389 - accuracy: 0.9377 - val_loss: 0.3858 - val_accuracy: 0.8767\n",
            "Epoch 7/10\n",
            "118/118 [==============================] - 1s 8ms/step - loss: 0.2319 - accuracy: 0.9393 - val_loss: 0.3983 - val_accuracy: 0.8739\n",
            "Epoch 8/10\n",
            "118/118 [==============================] - 1s 7ms/step - loss: 0.2260 - accuracy: 0.9435 - val_loss: 0.4178 - val_accuracy: 0.8676\n",
            "Epoch 9/10\n",
            "118/118 [==============================] - 1s 8ms/step - loss: 0.2189 - accuracy: 0.9439 - val_loss: 0.4056 - val_accuracy: 0.8750\n",
            "Epoch 10/10\n",
            "118/118 [==============================] - 1s 8ms/step - loss: 0.2174 - accuracy: 0.9449 - val_loss: 0.4441 - val_accuracy: 0.8674\n"
          ]
        }
      ],
      "source": [
        "from tensorflow.keras import regularizers\n",
        "model = keras.Sequential([\n",
        "    layers.Dense(16,\n",
        "                 kernel_regularizer=regularizers.l2(0.002),\n",
        "                 activation=\"relu\"),\n",
        "    layers.Dense(16,\n",
        "                 kernel_regularizer=regularizers.l2(0.002),\n",
        "                 activation=\"relu\"),\n",
        "    layers.Dense(1, activation=\"sigmoid\")\n",
        "])\n",
        "model.compile(optimizer=\"rmsprop\",\n",
        "              loss=\"binary_crossentropy\",\n",
        "              metrics=[\"accuracy\"])\n",
        "history_l2_reg = model.fit(\n",
        "    train_data, train_labels,\n",
        "    epochs=10, batch_size=128, validation_split=0.4)"
      ]
    },
    {
      "cell_type": "markdown",
      "metadata": {
        "id": "-C1qj_rgOIZG"
      },
      "source": [
        "**Different weight regularizers available in Keras**"
      ]
    },
    {
      "cell_type": "code",
      "execution_count": 11,
      "metadata": {
        "id": "J8HrEhyCOIZG",
        "outputId": "c3200f68-c5dd-4b51-d735-c1811c03a071",
        "colab": {
          "base_uri": "https://localhost:8080/"
        }
      },
      "outputs": [
        {
          "output_type": "execute_result",
          "data": {
            "text/plain": [
              "<keras.src.regularizers.L1L2 at 0x7a8dc2a17430>"
            ]
          },
          "metadata": {},
          "execution_count": 11
        }
      ],
      "source": [
        "from tensorflow.keras import regularizers\n",
        "regularizers.l1(0.001)\n",
        "regularizers.l1_l2(l1=0.001, l2=0.001)"
      ]
    },
    {
      "cell_type": "markdown",
      "metadata": {
        "id": "90TI9sftOIZG"
      },
      "source": [
        "#### Adding dropout"
      ]
    },
    {
      "cell_type": "markdown",
      "metadata": {
        "id": "s-UTMeS6OIZG"
      },
      "source": [
        "**Adding dropout to the IMDB model**"
      ]
    },
    {
      "cell_type": "code",
      "execution_count": 12,
      "metadata": {
        "id": "tXkeuTtcOIZH",
        "outputId": "14e32b35-9acc-4bfb-d2cd-cfb26a5a0cc8",
        "colab": {
          "base_uri": "https://localhost:8080/"
        }
      },
      "outputs": [
        {
          "output_type": "stream",
          "name": "stdout",
          "text": [
            "Epoch 1/10\n",
            "118/118 [==============================] - 4s 21ms/step - loss: 0.5922 - accuracy: 0.6792 - val_loss: 0.4196 - val_accuracy: 0.8648\n",
            "Epoch 2/10\n",
            "118/118 [==============================] - 1s 8ms/step - loss: 0.4179 - accuracy: 0.8293 - val_loss: 0.3233 - val_accuracy: 0.8807\n",
            "Epoch 3/10\n",
            "118/118 [==============================] - 1s 7ms/step - loss: 0.3254 - accuracy: 0.8775 - val_loss: 0.2990 - val_accuracy: 0.8746\n",
            "Epoch 4/10\n",
            "118/118 [==============================] - 1s 8ms/step - loss: 0.2762 - accuracy: 0.9008 - val_loss: 0.2935 - val_accuracy: 0.8902\n",
            "Epoch 5/10\n",
            "118/118 [==============================] - 1s 8ms/step - loss: 0.2422 - accuracy: 0.9169 - val_loss: 0.2966 - val_accuracy: 0.8884\n",
            "Epoch 6/10\n",
            "118/118 [==============================] - 1s 8ms/step - loss: 0.2225 - accuracy: 0.9233 - val_loss: 0.3241 - val_accuracy: 0.8881\n",
            "Epoch 7/10\n",
            "118/118 [==============================] - 1s 8ms/step - loss: 0.2051 - accuracy: 0.9294 - val_loss: 0.3453 - val_accuracy: 0.8891\n",
            "Epoch 8/10\n",
            "118/118 [==============================] - 1s 8ms/step - loss: 0.1929 - accuracy: 0.9352 - val_loss: 0.3589 - val_accuracy: 0.8712\n",
            "Epoch 9/10\n",
            "118/118 [==============================] - 1s 7ms/step - loss: 0.1804 - accuracy: 0.9380 - val_loss: 0.4038 - val_accuracy: 0.8779\n",
            "Epoch 10/10\n",
            "118/118 [==============================] - 1s 8ms/step - loss: 0.1792 - accuracy: 0.9397 - val_loss: 0.3884 - val_accuracy: 0.8784\n"
          ]
        }
      ],
      "source": [
        "model = keras.Sequential([\n",
        "    layers.Dense(16, activation=\"relu\"),\n",
        "    layers.Dropout(0.5),\n",
        "    layers.Dense(16, activation=\"relu\"),\n",
        "    layers.Dropout(0.5),\n",
        "    layers.Dense(1, activation=\"sigmoid\")\n",
        "])\n",
        "model.compile(optimizer=\"rmsprop\",\n",
        "              loss=\"binary_crossentropy\",\n",
        "              metrics=[\"accuracy\"])\n",
        "history_dropout = model.fit(\n",
        "    train_data, train_labels,\n",
        "    epochs=10, batch_size=128, validation_split=0.4)"
      ]
    },
    {
      "cell_type": "code",
      "source": [
        "import matplotlib.pyplot as plt\n",
        "l2_val_loss = history_l2_reg.history[\"val_loss\"]\n",
        "dropout_val_loss = history_dropout.history[\"val_loss\"]\n",
        "epochs = range(1, 11)\n",
        "plt.plot(epochs, l2_val_loss, \"r--\",\n",
        "         label=\"Validation loss\")\n",
        "plt.plot(epochs, dropout_val_loss, \"b--\",\n",
        "         label=\"Validation loss\")\n",
        "plt.title(\"Effect of insufficient model capacity on validation loss\")\n",
        "plt.xlabel(\"Epochs\")\n",
        "plt.ylabel(\"Loss\")\n",
        "plt.legend()"
      ],
      "metadata": {
        "id": "Quu-sRoZdlcr",
        "outputId": "aab3af63-191b-44b2-da54-6460acc1b1f0",
        "colab": {
          "base_uri": "https://localhost:8080/",
          "height": 490
        }
      },
      "execution_count": 14,
      "outputs": [
        {
          "output_type": "execute_result",
          "data": {
            "text/plain": [
              "<matplotlib.legend.Legend at 0x7a8dce373460>"
            ]
          },
          "metadata": {},
          "execution_count": 14
        },
        {
          "output_type": "display_data",
          "data": {
            "text/plain": [
              "<Figure size 640x480 with 1 Axes>"
            ],
            "image/png": "[encoded data removed]"
          },
          "metadata": {}
        }
      ]
    },
    {
      "cell_type": "markdown",
      "source": [
        "random하게 dropout하면 일종의 randomforest 형태의 트리가 된다. dependency가 생기지 않도록 함. specific한 noise에서. random하게 noise를 making"
      ],
      "metadata": {
        "id": "1SebDX5FdxXe"
      }
    },
    {
      "cell_type": "markdown",
      "metadata": {
        "id": "RSIY6_dyOIZH"
      },
      "source": [
        "## Summary"
      ]
    }
  ],
  "metadata": {
    "colab": {
      "name": "chapter05_fundamentals-of-ml.i",
      "provenance": [],
      "toc_visible": true,
      "gpuType": "T4"
    },
    "kernelspec": {
      "display_name": "Python 3",
      "name": "python3"
    },
    "language_info": {
      "codemirror_mode": {
        "name": "ipython",
        "version": 3
      },
      "file_extension": ".py",
      "mimetype": "text/x-python",
      "name": "python",
      "nbconvert_exporter": "python",
      "pygments_lexer": "ipython3",
      "version": "3.7.0"
    },
    "accelerator": "GPU"
  },
  "nbformat": 4,
  "nbformat_minor": 0
}